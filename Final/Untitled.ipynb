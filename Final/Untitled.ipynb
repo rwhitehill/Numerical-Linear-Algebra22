{
 "cells": [
  {
   "cell_type": "code",
   "execution_count": 2,
   "id": "cf4cdf1f-36d1-4699-a42e-6fa7a96934d1",
   "metadata": {},
   "outputs": [],
   "source": [
    "import sympy as sp"
   ]
  },
  {
   "cell_type": "code",
   "execution_count": 2,
   "id": "3aa2fdd2-cf49-453a-96b3-c7f0bb21bc58",
   "metadata": {},
   "outputs": [],
   "source": [
    "A = sp.Matrix([[-2,1],[0,2]])"
   ]
  },
  {
   "cell_type": "code",
   "execution_count": 5,
   "id": "756e17b8-c899-4d2b-b526-c2a294c4a406",
   "metadata": {},
   "outputs": [],
   "source": [
    "B = A.inv()"
   ]
  },
  {
   "cell_type": "code",
   "execution_count": 7,
   "id": "c337d59a-8e0e-4af1-8230-236f66abca69",
   "metadata": {},
   "outputs": [
    {
     "data": {
      "text/plain": [
       "{9/2 - sqrt(17)/2: 1, sqrt(17)/2 + 9/2: 1}"
      ]
     },
     "execution_count": 7,
     "metadata": {},
     "output_type": "execute_result"
    }
   ],
   "source": [
    "(A.T*A).eigenvals()"
   ]
  },
  {
   "cell_type": "code",
   "execution_count": 8,
   "id": "64047672-559d-4c39-acb9-8fedbe65be88",
   "metadata": {},
   "outputs": [
    {
     "data": {
      "text/plain": [
       "{9/32 - sqrt(17)/32: 1, sqrt(17)/32 + 9/32: 1}"
      ]
     },
     "execution_count": 8,
     "metadata": {},
     "output_type": "execute_result"
    }
   ],
   "source": [
    "(B.T*B).eigenvals()"
   ]
  },
  {
   "cell_type": "code",
   "execution_count": 9,
   "id": "2d30c021-4fd1-49a6-81a5-3914398aca11",
   "metadata": {},
   "outputs": [
    {
     "data": {
      "text/plain": [
       "{-1: 1, 1: 1}"
      ]
     },
     "execution_count": 9,
     "metadata": {},
     "output_type": "execute_result"
    }
   ],
   "source": [
    "A = sp.Matrix([[0,1],[1,0]])\n",
    "A.eigenvals()"
   ]
  },
  {
   "cell_type": "code",
   "execution_count": 10,
   "id": "eddb9fcd-1e2c-4e06-8d15-c3827326a7e7",
   "metadata": {},
   "outputs": [],
   "source": [
    "def f(a,b):\n",
    "    return 2*a*b/(a**2+b**2)"
   ]
  },
  {
   "cell_type": "code",
   "execution_count": 13,
   "id": "fa90dea7-4979-4e10-85bd-3d8dc9654057",
   "metadata": {},
   "outputs": [
    {
     "data": {
      "text/plain": [
       "0.38461538461538464"
      ]
     },
     "execution_count": 13,
     "metadata": {},
     "output_type": "execute_result"
    }
   ],
   "source": [
    "f(1,5)"
   ]
  },
  {
   "cell_type": "code",
   "execution_count": 4,
   "id": "6e86f758-4c1d-4ada-8d03-ffb48fc36bff",
   "metadata": {},
   "outputs": [
    {
     "ename": "NameError",
     "evalue": "name 'a' is not defined",
     "output_type": "error",
     "traceback": [
      "\u001b[0;31m---------------------------------------------------------------------------\u001b[0m",
      "\u001b[0;31mNameError\u001b[0m                                 Traceback (most recent call last)",
      "\u001b[0;32m/var/folders/_b/29vq0z955j77svdys97cr5p40000gn/T/ipykernel_3315/2887014149.py\u001b[0m in \u001b[0;36m<module>\u001b[0;34m\u001b[0m\n\u001b[1;32m      1\u001b[0m \u001b[0mA\u001b[0m \u001b[0;34m=\u001b[0m \u001b[0msp\u001b[0m\u001b[0;34m.\u001b[0m\u001b[0mMatrix\u001b[0m\u001b[0;34m(\u001b[0m\u001b[0;34m[\u001b[0m\u001b[0;34m[\u001b[0m\u001b[0;36m1\u001b[0m\u001b[0;34m,\u001b[0m\u001b[0;34m-\u001b[0m\u001b[0;36m1\u001b[0m\u001b[0;34m]\u001b[0m\u001b[0;34m,\u001b[0m\u001b[0;34m[\u001b[0m\u001b[0;36m1\u001b[0m\u001b[0;34m,\u001b[0m\u001b[0;34m-\u001b[0m\u001b[0;36m1\u001b[0m\u001b[0;34m]\u001b[0m\u001b[0;34m,\u001b[0m\u001b[0;34m[\u001b[0m\u001b[0;36m1\u001b[0m\u001b[0;34m,\u001b[0m\u001b[0;36m0\u001b[0m\u001b[0;34m]\u001b[0m\u001b[0;34m]\u001b[0m\u001b[0;34m)\u001b[0m\u001b[0;34m\u001b[0m\u001b[0;34m\u001b[0m\u001b[0m\n\u001b[0;32m----> 2\u001b[0;31m \u001b[0mx\u001b[0m \u001b[0;34m=\u001b[0m \u001b[0msp\u001b[0m\u001b[0;34m.\u001b[0m\u001b[0mMatrix\u001b[0m\u001b[0;34m(\u001b[0m\u001b[0;34m[\u001b[0m\u001b[0ma\u001b[0m\u001b[0;34m,\u001b[0m\u001b[0mb\u001b[0m\u001b[0;34m]\u001b[0m\u001b[0;34m)\u001b[0m\u001b[0;34m\u001b[0m\u001b[0;34m\u001b[0m\u001b[0m\n\u001b[0m\u001b[1;32m      3\u001b[0m \u001b[0;34m\u001b[0m\u001b[0m\n\u001b[1;32m      4\u001b[0m \u001b[0mA\u001b[0m\u001b[0;34m*\u001b[0m\u001b[0mx\u001b[0m\u001b[0;34m\u001b[0m\u001b[0;34m\u001b[0m\u001b[0m\n",
      "\u001b[0;31mNameError\u001b[0m: name 'a' is not defined"
     ]
    }
   ],
   "source": [
    "\n",
    "A = sp.Matrix([[1,-1],[1,-1],[1,0]])\n",
    "x = sp.Matrix([a,b])\n",
    "\n",
    "A*x"
   ]
  },
  {
   "cell_type": "code",
   "execution_count": 5,
   "id": "e62aa0d7-9254-43c9-b616-3d0d02e2f472",
   "metadata": {},
   "outputs": [],
   "source": [
    "import numpy as np"
   ]
  },
  {
   "cell_type": "code",
   "execution_count": 10,
   "id": "4047d43b-f53b-4306-a8ee-d1bdb3a48e74",
   "metadata": {},
   "outputs": [],
   "source": [
    "def f(a,b):\n",
    "    A = np.array([[1.0,-1.0],[1.0,-1.0],[1.0,0.0]])\n",
    "    x = np.array([a,b])\n",
    "    b = np.array([-2.0,0.0,1.0])\n",
    "    r = A@x-b\n",
    "    return np.linalg.norm(r,2)"
   ]
  },
  {
   "cell_type": "code",
   "execution_count": 11,
   "id": "4b589348-9af2-4a60-86ab-69674f3f9815",
   "metadata": {},
   "outputs": [
    {
     "data": {
      "text/plain": [
       "1.4142135623730951"
      ]
     },
     "execution_count": 11,
     "metadata": {},
     "output_type": "execute_result"
    }
   ],
   "source": [
    "f(1,2)"
   ]
  },
  {
   "cell_type": "code",
   "execution_count": 12,
   "id": "a84f227b-3909-4c14-adcc-542215c4a792",
   "metadata": {},
   "outputs": [
    {
     "name": "stderr",
     "output_type": "stream",
     "text": [
      "/var/folders/_b/29vq0z955j77svdys97cr5p40000gn/T/ipykernel_3315/4176578852.py:3: FutureWarning: `rcond` parameter will change to the default of machine precision times ``max(M, N)`` where M and N are the input matrix dimensions.\n",
      "To use the future default and silence this warning we advise to pass `rcond=None`, to keep using the old, explicitly pass `rcond=-1`.\n",
      "  np.linalg.lstsq(A,b)\n"
     ]
    },
    {
     "data": {
      "text/plain": [
       "(array([1., 2.]), array([2.]), 2, array([2.13577921, 0.66215345]))"
      ]
     },
     "execution_count": 12,
     "metadata": {},
     "output_type": "execute_result"
    }
   ],
   "source": [
    "A = np.array([[1.0,-1.0],[1.0,-1.0],[1.0,0.0]])\n",
    "b = np.array([-2.0,0.0,1.0])\n",
    "np.linalg.lstsq(A,b)"
   ]
  },
  {
   "cell_type": "code",
   "execution_count": null,
   "id": "ef79cd99-11a4-428d-a1a5-c5bad243e03d",
   "metadata": {},
   "outputs": [],
   "source": []
  }
 ],
 "metadata": {
  "kernelspec": {
   "display_name": "Python 3 (ipykernel)",
   "language": "python",
   "name": "python3"
  },
  "language_info": {
   "codemirror_mode": {
    "name": "ipython",
    "version": 3
   },
   "file_extension": ".py",
   "mimetype": "text/x-python",
   "name": "python",
   "nbconvert_exporter": "python",
   "pygments_lexer": "ipython3",
   "version": "3.9.7"
  }
 },
 "nbformat": 4,
 "nbformat_minor": 5
}
