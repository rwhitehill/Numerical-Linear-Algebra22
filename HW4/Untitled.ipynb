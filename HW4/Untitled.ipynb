{
 "cells": [
  {
   "cell_type": "code",
   "execution_count": 1,
   "id": "b1e2707f-5108-4cef-a3b8-f7dd95933d49",
   "metadata": {},
   "outputs": [],
   "source": [
    "import sympy as sp"
   ]
  },
  {
   "cell_type": "code",
   "execution_count": 2,
   "id": "27f3c4b2-120f-4daf-a616-0fb8087f2422",
   "metadata": {},
   "outputs": [
    {
     "data": {
      "text/latex": [
       "$\\displaystyle -2$"
      ],
      "text/plain": [
       "-2"
      ]
     },
     "execution_count": 2,
     "metadata": {},
     "output_type": "execute_result"
    }
   ],
   "source": [
    "A = sp.Matrix([\n",
    "    [0,-1,0,1],\n",
    "    [0,1,0,1],\n",
    "    [1,0,1,1],\n",
    "    [1,0,0,-1]\n",
    "])\n",
    "A.det()"
   ]
  },
  {
   "cell_type": "code",
   "execution_count": 3,
   "id": "28e3339f-0537-4cea-9fdb-2fa14146641c",
   "metadata": {},
   "outputs": [
    {
     "data": {
      "text/latex": [
       "$\\displaystyle \\left[\\begin{matrix}2 & 0 & 1 & -1\\\\0 & 2 & 1 & -1\\\\1 & 1 & 3 & 0\\\\-1 & -1 & 0 & 2\\end{matrix}\\right]$"
      ],
      "text/plain": [
       "Matrix([\n",
       "[ 2,  0, 1, -1],\n",
       "[ 0,  2, 1, -1],\n",
       "[ 1,  1, 3,  0],\n",
       "[-1, -1, 0,  2]])"
      ]
     },
     "execution_count": 3,
     "metadata": {},
     "output_type": "execute_result"
    }
   ],
   "source": [
    "A*A.T"
   ]
  },
  {
   "cell_type": "code",
   "execution_count": 10,
   "id": "96a5d6cf-9679-4d50-9752-324c607cc685",
   "metadata": {},
   "outputs": [
    {
     "data": {
      "text/plain": [
       "{2: 1,\n",
       " 7/3 - (8 + 3*sqrt(237)*I)**(1/3)/3 - 13/(3*(8 + 3*sqrt(237)*I)**(1/3)): 1,\n",
       " 7/3 - (-1/2 + sqrt(3)*I/2)*(8 + 3*sqrt(237)*I)**(1/3)/3 - 13/(3*(-1/2 + sqrt(3)*I/2)*(8 + 3*sqrt(237)*I)**(1/3)): 1,\n",
       " 7/3 - 13/(3*(-1/2 - sqrt(3)*I/2)*(8 + 3*sqrt(237)*I)**(1/3)) - (-1/2 - sqrt(3)*I/2)*(8 + 3*sqrt(237)*I)**(1/3)/3: 1}"
      ]
     },
     "execution_count": 10,
     "metadata": {},
     "output_type": "execute_result"
    }
   ],
   "source": [
    "(A*A.T).eigenvals()"
   ]
  },
  {
   "cell_type": "code",
   "execution_count": 23,
   "id": "748d05f1-89f7-499e-830e-9c4f427d6de2",
   "metadata": {},
   "outputs": [],
   "source": [
    "A = sp.zeros(10,10)"
   ]
  },
  {
   "cell_type": "code",
   "execution_count": 24,
   "id": "8e6a2441-1dba-4494-8672-e3721cd444ef",
   "metadata": {},
   "outputs": [],
   "source": [
    "for i in range(10):\n",
    "    if i != 0:\n",
    "        A[i,i-1] = -1\n",
    "    if i != 9:\n",
    "        A[i,i+1] = -1\n",
    "    A[i,i] = 2"
   ]
  },
  {
   "cell_type": "code",
   "execution_count": 25,
   "id": "ce60808a-717a-4da5-8c22-3d9a22dc9151",
   "metadata": {},
   "outputs": [
    {
     "data": {
      "text/latex": [
       "$\\displaystyle \\left[\\begin{matrix}2 & -1 & 0 & 0 & 0 & 0 & 0 & 0 & 0 & 0\\\\-1 & 2 & -1 & 0 & 0 & 0 & 0 & 0 & 0 & 0\\\\0 & -1 & 2 & -1 & 0 & 0 & 0 & 0 & 0 & 0\\\\0 & 0 & -1 & 2 & -1 & 0 & 0 & 0 & 0 & 0\\\\0 & 0 & 0 & -1 & 2 & -1 & 0 & 0 & 0 & 0\\\\0 & 0 & 0 & 0 & -1 & 2 & -1 & 0 & 0 & 0\\\\0 & 0 & 0 & 0 & 0 & -1 & 2 & -1 & 0 & 0\\\\0 & 0 & 0 & 0 & 0 & 0 & -1 & 2 & -1 & 0\\\\0 & 0 & 0 & 0 & 0 & 0 & 0 & -1 & 2 & -1\\\\0 & 0 & 0 & 0 & 0 & 0 & 0 & 0 & -1 & 2\\end{matrix}\\right]$"
      ],
      "text/plain": [
       "Matrix([\n",
       "[ 2, -1,  0,  0,  0,  0,  0,  0,  0,  0],\n",
       "[-1,  2, -1,  0,  0,  0,  0,  0,  0,  0],\n",
       "[ 0, -1,  2, -1,  0,  0,  0,  0,  0,  0],\n",
       "[ 0,  0, -1,  2, -1,  0,  0,  0,  0,  0],\n",
       "[ 0,  0,  0, -1,  2, -1,  0,  0,  0,  0],\n",
       "[ 0,  0,  0,  0, -1,  2, -1,  0,  0,  0],\n",
       "[ 0,  0,  0,  0,  0, -1,  2, -1,  0,  0],\n",
       "[ 0,  0,  0,  0,  0,  0, -1,  2, -1,  0],\n",
       "[ 0,  0,  0,  0,  0,  0,  0, -1,  2, -1],\n",
       "[ 0,  0,  0,  0,  0,  0,  0,  0, -1,  2]])"
      ]
     },
     "execution_count": 25,
     "metadata": {},
     "output_type": "execute_result"
    }
   ],
   "source": [
    "A."
   ]
  },
  {
   "cell_type": "code",
   "execution_count": null,
   "id": "5ad1afdb-17c0-4db9-9ad6-0b7d6e693d70",
   "metadata": {},
   "outputs": [],
   "source": []
  }
 ],
 "metadata": {
  "kernelspec": {
   "display_name": "Python 3 (ipykernel)",
   "language": "python",
   "name": "python3"
  },
  "language_info": {
   "codemirror_mode": {
    "name": "ipython",
    "version": 3
   },
   "file_extension": ".py",
   "mimetype": "text/x-python",
   "name": "python",
   "nbconvert_exporter": "python",
   "pygments_lexer": "ipython3",
   "version": "3.9.7"
  }
 },
 "nbformat": 4,
 "nbformat_minor": 5
}
