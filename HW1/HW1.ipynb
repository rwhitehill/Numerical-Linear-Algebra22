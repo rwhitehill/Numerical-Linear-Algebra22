{
 "cells": [
  {
   "cell_type": "markdown",
   "id": "456ca01b-547e-4730-a61c-7312e27321ff",
   "metadata": {},
   "source": [
    "# Imports"
   ]
  },
  {
   "cell_type": "code",
   "execution_count": 36,
   "id": "069ec2dd-afb9-4954-9d71-e6556aafddbd",
   "metadata": {},
   "outputs": [],
   "source": [
    "import sympy as sp\n",
    "import numpy as np"
   ]
  },
  {
   "cell_type": "markdown",
   "id": "b63e6489-eb41-406e-9a5c-b93c14d2f176",
   "metadata": {},
   "source": [
    "# Problem 5"
   ]
  },
  {
   "cell_type": "markdown",
   "id": "21944fa0-e311-4f1d-afd3-5d38373b6121",
   "metadata": {},
   "source": [
    "## Part (a)"
   ]
  },
  {
   "cell_type": "code",
   "execution_count": 24,
   "id": "32ce269d-eb09-4b07-849c-c936f4e7fd91",
   "metadata": {},
   "outputs": [
    {
     "name": "stdout",
     "output_type": "stream",
     "text": [
      "1-norm:   8.50\n",
      "2-norm:   5.22\n",
      "inf-norm: 4.00\n"
     ]
    }
   ],
   "source": [
    "x = np.array([3,-4,0,3/2])\n",
    "print('1-norm:   %.2f'%np.linalg.norm(x,ord=1))\n",
    "print('2-norm:   %.2f'%np.linalg.norm(x,ord=2))\n",
    "print('inf-norm: %.2f'%np.linalg.norm(x,ord=np.inf))"
   ]
  },
  {
   "cell_type": "markdown",
   "id": "6e7bf4a1-57b9-4c46-950d-a7df062e343a",
   "metadata": {},
   "source": [
    "## Part (b)"
   ]
  },
  {
   "cell_type": "code",
   "execution_count": 8,
   "id": "655ceb22-04ae-404d-a4db-8e952d9c2cfd",
   "metadata": {},
   "outputs": [],
   "source": [
    "A = sp.Matrix([[2,-1,0],[-1,2,-1],[0,-1,2]])\n",
    "lam = sp.Symbol(r'\\lambda')"
   ]
  },
  {
   "cell_type": "code",
   "execution_count": 15,
   "id": "723a324f-4d57-461f-82c0-aaf76018f91f",
   "metadata": {},
   "outputs": [
    {
     "name": "stdout",
     "output_type": "stream",
     "text": [
      "\\left[\\begin{matrix}5 & -4 & 1\\\\-4 & 6 & -4\\\\1 & -4 & 5\\end{matrix}\\right]\n"
     ]
    },
    {
     "data": {
      "text/latex": [
       "$\\displaystyle \\left[\\begin{matrix}5 & -4 & 1\\\\-4 & 6 & -4\\\\1 & -4 & 5\\end{matrix}\\right]$"
      ],
      "text/plain": [
       "Matrix([\n",
       "[ 5, -4,  1],\n",
       "[-4,  6, -4],\n",
       "[ 1, -4,  5]])"
      ]
     },
     "metadata": {},
     "output_type": "display_data"
    },
    {
     "data": {
      "text/latex": [
       "$\\displaystyle \\left[\\begin{matrix}5 - \\lambda & -4 & 1\\\\-4 & 6 - \\lambda & -4\\\\1 & -4 & 5 - \\lambda\\end{matrix}\\right]$"
      ],
      "text/plain": [
       "Matrix([\n",
       "[5 - \\lambda,          -4,           1],\n",
       "[         -4, 6 - \\lambda,          -4],\n",
       "[          1,          -4, 5 - \\lambda]])"
      ]
     },
     "metadata": {},
     "output_type": "display_data"
    },
    {
     "name": "stdout",
     "output_type": "stream",
     "text": [
      "- \\lambda^{3} + 16 \\lambda^{2} - 52 \\lambda + 16\n"
     ]
    },
    {
     "data": {
      "text/latex": [
       "$\\displaystyle - \\lambda^{3} + 16 \\lambda^{2} - 52 \\lambda + 16$"
      ],
      "text/plain": [
       "-\\lambda**3 + 16*\\lambda**2 - 52*\\lambda + 16"
      ]
     },
     "metadata": {},
     "output_type": "display_data"
    },
    {
     "data": {
      "text/plain": [
       "[4, 6 - 4*sqrt(2), 4*sqrt(2) + 6]"
      ]
     },
     "metadata": {},
     "output_type": "display_data"
    },
    {
     "data": {
      "text/plain": [
       "{4: 1, 6 - 4*sqrt(2): 1, 4*sqrt(2) + 6: 1}"
      ]
     },
     "execution_count": 15,
     "metadata": {},
     "output_type": "execute_result"
    }
   ],
   "source": [
    "temp = A.T*A\n",
    "print(sp.latex(temp))\n",
    "display(temp)\n",
    "temp -= lam*sp.eye(3)\n",
    "display(temp)\n",
    "temp = temp.det()\n",
    "print(sp.latex(temp))\n",
    "display(temp)\n",
    "temp = sp.solve(temp,lam)\n",
    "display(temp)\n",
    "(A.T*A).eigenvals()"
   ]
  },
  {
   "cell_type": "code",
   "execution_count": 23,
   "id": "70ab1be5-0d27-4aaf-aac3-bd79b0dcca4a",
   "metadata": {},
   "outputs": [
    {
     "name": "stdout",
     "output_type": "stream",
     "text": [
      "1-norm:   4.00\n",
      "2-norm:   3.41\n",
      "inf-norm: 4.00\n"
     ]
    }
   ],
   "source": [
    "A = np.array([[2,-1,0],[-1,2,-1],[0,-1,2]])\n",
    "print('1-norm:   %.2f'%np.linalg.norm(A,ord=1))\n",
    "print('2-norm:   %.2f'%np.linalg.norm(A,ord=2))\n",
    "print('inf-norm: %.2f'%np.linalg.norm(A,ord=np.inf))"
   ]
  },
  {
   "cell_type": "markdown",
   "id": "9b345a3a-630d-4cf3-b751-e967f8a3ef07",
   "metadata": {},
   "source": [
    "# Problem 6"
   ]
  },
  {
   "cell_type": "markdown",
   "id": "2bd57fe8-e9b3-4a2d-8f76-cce8d16c7780",
   "metadata": {},
   "source": [
    "## Part (a)"
   ]
  },
  {
   "cell_type": "code",
   "execution_count": 51,
   "id": "134b2e2a-05f2-49fd-b3ad-11c1bc0f7d18",
   "metadata": {},
   "outputs": [],
   "source": [
    "A = sp.Matrix([[3,0],[0,-2]])\n",
    "lam = sp.Symbol(r'\\lambda')"
   ]
  },
  {
   "cell_type": "code",
   "execution_count": 57,
   "id": "e0bb26ec-e551-441f-81a5-a9d98bd4622a",
   "metadata": {},
   "outputs": [
    {
     "name": "stdout",
     "output_type": "stream",
     "text": [
      "\\left[\\begin{matrix}9 & 0\\\\0 & 4\\end{matrix}\\right]\n"
     ]
    },
    {
     "data": {
      "text/latex": [
       "$\\displaystyle \\left[\\begin{matrix}9 & 0\\\\0 & 4\\end{matrix}\\right]$"
      ],
      "text/plain": [
       "Matrix([\n",
       "[9, 0],\n",
       "[0, 4]])"
      ]
     },
     "metadata": {},
     "output_type": "display_data"
    },
    {
     "name": "stdout",
     "output_type": "stream",
     "text": [
      "\\lambda^{2} - 13 \\lambda + 36\n"
     ]
    },
    {
     "data": {
      "text/latex": [
       "$\\displaystyle \\lambda^{2} - 13 \\lambda + 36$"
      ],
      "text/plain": [
       "\\lambda**2 - 13*\\lambda + 36"
      ]
     },
     "metadata": {},
     "output_type": "display_data"
    },
    {
     "data": {
      "text/plain": [
       "[4, 9]"
      ]
     },
     "metadata": {},
     "output_type": "display_data"
    },
    {
     "data": {
      "text/plain": [
       "(Matrix([\n",
       " [0, 1],\n",
       " [1, 0]]),\n",
       " Matrix([\n",
       " [4, 0],\n",
       " [0, 9]]))"
      ]
     },
     "execution_count": 57,
     "metadata": {},
     "output_type": "execute_result"
    }
   ],
   "source": [
    "temp = A.T*A\n",
    "print(sp.latex(temp))\n",
    "display(temp)\n",
    "temp = (temp - lam*sp.eye(2)).det()\n",
    "print(sp.latex(temp.simplify()))\n",
    "display(temp.simplify())\n",
    "temp = sp.solve(temp)\n",
    "display(temp)\n",
    "(A.T*A).diagonalize()"
   ]
  },
  {
   "cell_type": "code",
   "execution_count": null,
   "id": "56fc85e2-744e-4787-bb8f-6a6ecd0d474d",
   "metadata": {},
   "outputs": [],
   "source": []
  },
  {
   "cell_type": "code",
   "execution_count": 65,
   "id": "e5ecc9f7-6646-4c41-8147-5cc378886ddf",
   "metadata": {},
   "outputs": [],
   "source": [
    "A = np.array([[3,0],[0,-2]])\n",
    "U,Sig,Vt = np.linalg.svd(A,full_matrices=True)"
   ]
  },
  {
   "cell_type": "code",
   "execution_count": 66,
   "id": "76598383-8e92-4973-b9e7-9fd7cb0466b2",
   "metadata": {},
   "outputs": [
    {
     "name": "stdout",
     "output_type": "stream",
     "text": [
      "U=[[1. 0.]\n",
      " [0. 1.]] \n",
      "\n",
      " Sigma=[3. 2.] \n",
      "\n",
      " V*=[[ 1.  0.]\n",
      " [-0. -1.]]\n"
     ]
    }
   ],
   "source": [
    "print('U={} \\n\\n Sigma={} \\n\\n V*={}'.format(U,Sig,Vt))"
   ]
  },
  {
   "cell_type": "markdown",
   "id": "6ac606b4-e034-474a-95ec-7bda25cb46b7",
   "metadata": {},
   "source": [
    "## Part (b)"
   ]
  },
  {
   "cell_type": "code",
   "execution_count": 61,
   "id": "91afbf1e-7c8f-46dd-be89-a9f58be15f4c",
   "metadata": {},
   "outputs": [
    {
     "data": {
      "text/latex": [
       "$\\displaystyle \\left[\\begin{matrix}0 & 0\\\\0 & 4\\end{matrix}\\right]$"
      ],
      "text/plain": [
       "Matrix([\n",
       "[0, 0],\n",
       "[0, 4]])"
      ]
     },
     "metadata": {},
     "output_type": "display_data"
    }
   ],
   "source": [
    "A = sp.Matrix([[0,2],[0,0],[0,0],[0,0]])\n",
    "display(A.T*A)"
   ]
  },
  {
   "cell_type": "code",
   "execution_count": 60,
   "id": "dfd0e1e0-3519-4a39-8665-2ea1c48b9129",
   "metadata": {},
   "outputs": [
    {
     "data": {
      "text/plain": [
       "(Matrix([\n",
       " [1, 0],\n",
       " [0, 1]]),\n",
       " Matrix([\n",
       " [0, 0],\n",
       " [0, 4]]))"
      ]
     },
     "execution_count": 60,
     "metadata": {},
     "output_type": "execute_result"
    }
   ],
   "source": [
    "(A.T*A).diagonalize()"
   ]
  },
  {
   "cell_type": "code",
   "execution_count": 62,
   "id": "6edbce7b-30e3-4cdc-9b0d-73556a36e174",
   "metadata": {},
   "outputs": [],
   "source": [
    "A = np.array([[0,2],[0,0],[0,0],[0,0]])\n",
    "U,Sig,Vt = np.linalg.svd(A,full_matrices=True)"
   ]
  },
  {
   "cell_type": "code",
   "execution_count": 63,
   "id": "7b40c0f3-180b-4345-b23d-d6d3161a1a3f",
   "metadata": {},
   "outputs": [
    {
     "name": "stdout",
     "output_type": "stream",
     "text": [
      "U=[[1. 0. 0. 0.]\n",
      " [0. 1. 0. 0.]\n",
      " [0. 0. 1. 0.]\n",
      " [0. 0. 0. 1.]] \n",
      "\n",
      " Sigma=[2. 0.] \n",
      "\n",
      " V*=[[ 0.  1.]\n",
      " [-1.  0.]]\n"
     ]
    }
   ],
   "source": [
    "print('U={} \\n\\n Sigma={} \\n\\n V*={}'.format(U,Sig,Vt))"
   ]
  },
  {
   "cell_type": "code",
   "execution_count": null,
   "id": "550246bd-c30f-4e95-8c34-0b18de7c4b63",
   "metadata": {},
   "outputs": [],
   "source": []
  },
  {
   "cell_type": "code",
   "execution_count": null,
   "id": "3aa2c6fe-6a74-49a8-a5c5-51fad5c02515",
   "metadata": {},
   "outputs": [],
   "source": []
  }
 ],
 "metadata": {
  "kernelspec": {
   "display_name": "Python 3 (ipykernel)",
   "language": "python",
   "name": "python3"
  },
  "language_info": {
   "codemirror_mode": {
    "name": "ipython",
    "version": 3
   },
   "file_extension": ".py",
   "mimetype": "text/x-python",
   "name": "python",
   "nbconvert_exporter": "python",
   "pygments_lexer": "ipython3",
   "version": "3.9.7"
  }
 },
 "nbformat": 4,
 "nbformat_minor": 5
}
